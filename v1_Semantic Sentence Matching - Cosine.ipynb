{
 "cells": [
  {
   "cell_type": "markdown",
   "id": "b104ce08",
   "metadata": {},
   "source": [
    "# Import libraries"
   ]
  },
  {
   "cell_type": "code",
   "execution_count": 1,
   "id": "d6e63b1c",
   "metadata": {},
   "outputs": [
    {
     "name": "stderr",
     "output_type": "stream",
     "text": [
      "C:\\ProgramData\\anaconda3\\envs\\ir_env\\lib\\site-packages\\tqdm\\auto.py:21: TqdmWarning: IProgress not found. Please update jupyter and ipywidgets. See https://ipywidgets.readthedocs.io/en/stable/user_install.html\n",
      "  from .autonotebook import tqdm as notebook_tqdm\n"
     ]
    }
   ],
   "source": [
    "import re\n",
    "import nltk\n",
    "from nltk.corpus import stopwords\n",
    "from nltk.tokenize import word_tokenize\n",
    "from nltk.stem import WordNetLemmatizer\n",
    "import pandas as pd\n",
    "from sentence_transformers import SentenceTransformer, util"
   ]
  },
  {
   "cell_type": "markdown",
   "id": "3bc92b23",
   "metadata": {},
   "source": [
    "# Preprocessing"
   ]
  },
  {
   "cell_type": "code",
   "execution_count": 2,
   "id": "22b4272b",
   "metadata": {},
   "outputs": [
    {
     "name": "stderr",
     "output_type": "stream",
     "text": [
      "[nltk_data] Downloading package stopwords to C:\\Users\\Subhayan\n",
      "[nltk_data]     Das\\AppData\\Roaming\\nltk_data...\n",
      "[nltk_data]   Package stopwords is already up-to-date!\n",
      "[nltk_data] Downloading package punkt to C:\\Users\\Subhayan\n",
      "[nltk_data]     Das\\AppData\\Roaming\\nltk_data...\n",
      "[nltk_data]   Package punkt is already up-to-date!\n",
      "[nltk_data] Downloading package wordnet to C:\\Users\\Subhayan\n",
      "[nltk_data]     Das\\AppData\\Roaming\\nltk_data...\n",
      "[nltk_data]   Package wordnet is already up-to-date!\n"
     ]
    },
    {
     "data": {
      "text/plain": [
       "True"
      ]
     },
     "execution_count": 2,
     "metadata": {},
     "output_type": "execute_result"
    }
   ],
   "source": [
    "# Download required NLTK data files\n",
    "nltk.download('stopwords')\n",
    "nltk.download('punkt')\n",
    "nltk.download('wordnet')"
   ]
  },
  {
   "cell_type": "code",
   "execution_count": 3,
   "id": "c8ba49c2",
   "metadata": {},
   "outputs": [],
   "source": [
    "# Initialize tools\n",
    "stop_words = set(stopwords.words('english'))\n",
    "lemmatizer = WordNetLemmatizer()"
   ]
  },
  {
   "cell_type": "code",
   "execution_count": 4,
   "id": "1285aa22",
   "metadata": {},
   "outputs": [],
   "source": [
    "def preprocess_sentence(sentence):\n",
    "    \"\"\"\n",
    "    Preprocess a single sentence: remove special characters, stop words, and apply lemmatization.\n",
    "    \"\"\"\n",
    "    # 1. Remove special characters and numbers\n",
    "    sentence = re.sub(r\"[^a-zA-Z\\s]\", \"\", sentence)\n",
    "    \n",
    "    # 2. Tokenize the sentence\n",
    "    words = word_tokenize(sentence.lower())  # Convert to lowercase and tokenize\n",
    "    \n",
    "    # 3. Remove stop words\n",
    "#     filtered_words = [word for word in words if word not in stop_words]\n",
    "    \n",
    "#     # 4. Lemmatize words\n",
    "#     lemmatized_words = [lemmatizer.lemmatize(word) for word in filtered_words]\n",
    "    \n",
    "    # 4. Lemmatize words\n",
    "    lemmatized_words = [lemmatizer.lemmatize(word) for word in words]\n",
    "    \n",
    "    # 5. Reconstruct the sentence\n",
    "    return \" \".join(lemmatized_words)"
   ]
  },
  {
   "cell_type": "code",
   "execution_count": 5,
   "id": "ec682a53",
   "metadata": {},
   "outputs": [],
   "source": [
    "# Preprocess the entire dataset\n",
    "def preprocess_dataset(dataset):\n",
    "    \"\"\"\n",
    "    Preprocess a dataset of sentences.\n",
    "    \"\"\"\n",
    "    return [preprocess_sentence(sentence) for sentence in dataset]"
   ]
  },
  {
   "cell_type": "code",
   "execution_count": 6,
   "id": "0f788888",
   "metadata": {},
   "outputs": [
    {
     "data": {
      "text/html": [
       "<div>\n",
       "<style scoped>\n",
       "    .dataframe tbody tr th:only-of-type {\n",
       "        vertical-align: middle;\n",
       "    }\n",
       "\n",
       "    .dataframe tbody tr th {\n",
       "        vertical-align: top;\n",
       "    }\n",
       "\n",
       "    .dataframe thead th {\n",
       "        text-align: right;\n",
       "    }\n",
       "</style>\n",
       "<table border=\"1\" class=\"dataframe\">\n",
       "  <thead>\n",
       "    <tr style=\"text-align: right;\">\n",
       "      <th></th>\n",
       "      <th>Questions</th>\n",
       "    </tr>\n",
       "  </thead>\n",
       "  <tbody>\n",
       "    <tr>\n",
       "      <th>0</th>\n",
       "      <td>Tell me about yourself</td>\n",
       "    </tr>\n",
       "    <tr>\n",
       "      <th>1</th>\n",
       "      <td>Can you introduce yourself briefly?</td>\n",
       "    </tr>\n",
       "    <tr>\n",
       "      <th>2</th>\n",
       "      <td>What are your career goals?</td>\n",
       "    </tr>\n",
       "    <tr>\n",
       "      <th>3</th>\n",
       "      <td>Where do you see yourself in five years?</td>\n",
       "    </tr>\n",
       "    <tr>\n",
       "      <th>4</th>\n",
       "      <td>Why did you choose your field of study?</td>\n",
       "    </tr>\n",
       "  </tbody>\n",
       "</table>\n",
       "</div>"
      ],
      "text/plain": [
       "                                  Questions\n",
       "0                    Tell me about yourself\n",
       "1       Can you introduce yourself briefly?\n",
       "2               What are your career goals?\n",
       "3  Where do you see yourself in five years?\n",
       "4   Why did you choose your field of study?"
      ]
     },
     "metadata": {},
     "output_type": "display_data"
    },
    {
     "data": {
      "text/plain": [
       "(100, 1)"
      ]
     },
     "metadata": {},
     "output_type": "display_data"
    }
   ],
   "source": [
    "train_df = pd.read_excel('./Dataset.xlsx', sheet_name='Train')\n",
    "display(train_df.head())\n",
    "display(train_df.shape)"
   ]
  },
  {
   "cell_type": "code",
   "execution_count": 7,
   "id": "b4d7ff96",
   "metadata": {},
   "outputs": [
    {
     "data": {
      "text/plain": [
       "100"
      ]
     },
     "execution_count": 7,
     "metadata": {},
     "output_type": "execute_result"
    }
   ],
   "source": [
    "raw_dataset = list(train_df['Questions'])\n",
    "len(raw_dataset)"
   ]
  },
  {
   "cell_type": "code",
   "execution_count": 8,
   "id": "ad8fe3b0",
   "metadata": {},
   "outputs": [
    {
     "data": {
      "text/plain": [
       "['tell me about yourself',\n",
       " 'can you introduce yourself briefly',\n",
       " 'what are your career goal',\n",
       " 'where do you see yourself in five year',\n",
       " 'why did you choose your field of study',\n",
       " 'what motivates you in life',\n",
       " 'how would you describe your personality',\n",
       " 'what are your longterm aspiration',\n",
       " 'what inspired you to pursue this career',\n",
       " 'how do you define success',\n",
       " 'what are your greatest strength',\n",
       " 'what are your weakness',\n",
       " 'how do you stay updated in your field',\n",
       " 'can you share a technical skill youve mastered',\n",
       " 'what new skill have you learned recently',\n",
       " 'what certification do you hold',\n",
       " 'how do you keep improving yourself',\n",
       " 'are you familiar with specific toolsoftware',\n",
       " 'how do you approach problemsolving',\n",
       " 'what unique skill make you stand out',\n",
       " 'why do you want this job',\n",
       " 'what do you know about our company',\n",
       " 'what interest you most about this role',\n",
       " 'why are you the best candidate for this position',\n",
       " 'how do your past experience align with this job',\n",
       " 'what challenge are you expecting in this position',\n",
       " 'have you worked in this industry before',\n",
       " 'what do you expect to accomplish in the first six month',\n",
       " 'how would you describe the ideal work environment',\n",
       " 'are you willing to relocate for this job',\n",
       " 'what is your greatest professional achievement',\n",
       " 'can you tell u about a successful project you led',\n",
       " 'describe a failure and what you learned from it',\n",
       " 'have you ever faced a major obstacle in your career',\n",
       " 'whats the most creative solution youve implemented',\n",
       " 'can you share a time when you exceeded expectation',\n",
       " 'how do you measure success in your project',\n",
       " 'what is your proudest accomplishment',\n",
       " 'have you ever trained or mentored someone',\n",
       " 'can you give an example of a complex problem you solved',\n",
       " 'describe a time you worked in a team',\n",
       " 'have you ever handled a difficult coworker',\n",
       " 'how do you manage conflict in the workplace',\n",
       " 'can you tell u about a challenging deadline you met',\n",
       " 'have you ever disagreed with your manager',\n",
       " 'how do you handle feedback or criticism',\n",
       " 'whats your approach to multitasking',\n",
       " 'can you share an example of going above and beyond',\n",
       " 'how do you stay calm under pressure',\n",
       " 'have you ever managed a crisis situation',\n",
       " 'have you ever led a team',\n",
       " 'how do you motivate others in a group',\n",
       " 'whats your leadership style',\n",
       " 'can you describe a successful team project',\n",
       " 'how do you ensure collaboration in diverse team',\n",
       " 'have you ever mediated a team conflict',\n",
       " 'whats your strategy for delegating task',\n",
       " 'how do you handle underperforming team member',\n",
       " 'what step do you take to build trust in a team',\n",
       " 'can you share an example of a decision you made a a leader',\n",
       " 'how would you handle a missed deadline',\n",
       " 'what would you do if a client gave negative feedback',\n",
       " 'how would you tackle a task outside your expertise',\n",
       " 'what would you do if you found an error in your work',\n",
       " 'how would you approach learning a new technology',\n",
       " 'what would you do if your team disagreed with your decision',\n",
       " 'how would you handle an unexpected workload increase',\n",
       " 'what step would you take to prioritize multiple urgent task',\n",
       " 'how would you react to sudden change in a project',\n",
       " 'what would you do if a colleague took credit for your work',\n",
       " 'can you share a time you solved a complex issue',\n",
       " 'how do you approach analyzing data',\n",
       " 'have you ever optimized a process at work',\n",
       " 'whats your method for troubleshooting error',\n",
       " 'can you describe a time you improved efficiency',\n",
       " 'how do you evaluate the success of a solution',\n",
       " 'whats the most innovative idea youve implemented',\n",
       " 'have you ever developed a new system or workflow',\n",
       " 'how do you deal with unforeseen challenge',\n",
       " 'whats your process for making critical decision',\n",
       " 'how do you build relationship with coworkers',\n",
       " 'have you ever mentored someone at work',\n",
       " 'whats your strategy for handling difficult conversation',\n",
       " 'how do you ensure clear communication in team',\n",
       " 'have you ever helped resolve a misunderstanding',\n",
       " 'how do you adapt to different work culture',\n",
       " 'can you describe your collaboration style',\n",
       " 'whats your approach to handling criticism',\n",
       " 'how do you manage expectation with stakeholder',\n",
       " 'have you ever worked with client directly',\n",
       " 'why are you leaving your current job',\n",
       " 'what do you expect from your next employer',\n",
       " 'how do you envision contributing to our company',\n",
       " 'are you open to flexible working arrangement',\n",
       " 'what are your salary expectation',\n",
       " 'do you have any concern about this role',\n",
       " 'how soon can you start working with u',\n",
       " 'do you have any question for u',\n",
       " 'is there anything else youd like u to know',\n",
       " 'why should we hire you']"
      ]
     },
     "execution_count": 8,
     "metadata": {},
     "output_type": "execute_result"
    }
   ],
   "source": [
    "# Preprocess the dataset\n",
    "preprocessed_dataset = preprocess_dataset(raw_dataset)\n",
    "preprocessed_dataset"
   ]
  },
  {
   "cell_type": "markdown",
   "id": "a0f27e1f",
   "metadata": {},
   "source": [
    "# Unsupervised modeling with encodings using Sentence Bert"
   ]
  },
  {
   "cell_type": "code",
   "execution_count": 9,
   "id": "f7d7bf0b",
   "metadata": {},
   "outputs": [],
   "source": [
    "# Step 1: Load Sentence-BERT model\n",
    "model = SentenceTransformer('all-MiniLM-L6-v2')"
   ]
  },
  {
   "cell_type": "code",
   "execution_count": 10,
   "id": "443089a7",
   "metadata": {},
   "outputs": [],
   "source": [
    "# Step 2: Generate Embeddings for the Preprocessed Dataset\n",
    "dataset_embeddings = model.encode(preprocessed_dataset, convert_to_tensor=True)"
   ]
  },
  {
   "cell_type": "code",
   "execution_count": 11,
   "id": "e18b03a0",
   "metadata": {},
   "outputs": [],
   "source": [
    "def sentence_matching(unknown_sentence, dataset_embeddings, raw_dataset):\n",
    "    \n",
    "    # Step 3: Process an Unknown Sentence\n",
    "    preprocessed_unknown_sentence = preprocess_sentence(unknown_sentence)\n",
    "    unknown_embedding = model.encode(preprocessed_unknown_sentence, convert_to_tensor=True)\n",
    "    \n",
    "    # Step 4: Find the Most Similar Sentence\n",
    "    similarity_scores = util.cos_sim(unknown_embedding, dataset_embeddings)\n",
    "    most_similar_idx = similarity_scores.argmax().item()\n",
    "    \n",
    "    return (raw_dataset[most_similar_idx], preprocessed_unknown_sentence)"
   ]
  },
  {
   "cell_type": "code",
   "execution_count": 12,
   "id": "63315f14",
   "metadata": {},
   "outputs": [
    {
     "name": "stdout",
     "output_type": "stream",
     "text": [
      "Input Sentence: What do you consider your strongest skills?\n",
      "Preprocessed Input Sentence: what do you consider your strongest skill\n",
      "Most Similar Sentence: What are your greatest strengths?\n"
     ]
    }
   ],
   "source": [
    "unknown_sentence = 'What do you consider your strongest skills?'\n",
    "matched_sentence, preprocessed_unknown_sentence = sentence_matching(unknown_sentence, dataset_embeddings, raw_dataset)\n",
    "\n",
    "# Output the results\n",
    "print(\"Input Sentence:\", unknown_sentence)\n",
    "print(\"Preprocessed Input Sentence:\", preprocessed_unknown_sentence)\n",
    "print(\"Most Similar Sentence:\", matched_sentence)"
   ]
  },
  {
   "cell_type": "markdown",
   "id": "22df7a27",
   "metadata": {},
   "source": [
    "# Testing"
   ]
  },
  {
   "cell_type": "code",
   "execution_count": 13,
   "id": "a883ac5c",
   "metadata": {},
   "outputs": [
    {
     "data": {
      "text/html": [
       "<div>\n",
       "<style scoped>\n",
       "    .dataframe tbody tr th:only-of-type {\n",
       "        vertical-align: middle;\n",
       "    }\n",
       "\n",
       "    .dataframe tbody tr th {\n",
       "        vertical-align: top;\n",
       "    }\n",
       "\n",
       "    .dataframe thead th {\n",
       "        text-align: right;\n",
       "    }\n",
       "</style>\n",
       "<table border=\"1\" class=\"dataframe\">\n",
       "  <thead>\n",
       "    <tr style=\"text-align: right;\">\n",
       "      <th></th>\n",
       "      <th>Questions</th>\n",
       "    </tr>\n",
       "  </thead>\n",
       "  <tbody>\n",
       "    <tr>\n",
       "      <th>0</th>\n",
       "      <td>Can you share something about yourself?</td>\n",
       "    </tr>\n",
       "    <tr>\n",
       "      <th>1</th>\n",
       "      <td>Could you give a brief overview of who you are?</td>\n",
       "    </tr>\n",
       "    <tr>\n",
       "      <th>2</th>\n",
       "      <td>What are your short-term and long-term career ...</td>\n",
       "    </tr>\n",
       "    <tr>\n",
       "      <th>3</th>\n",
       "      <td>What position do you see yourself in five year...</td>\n",
       "    </tr>\n",
       "    <tr>\n",
       "      <th>4</th>\n",
       "      <td>Why did you decide to study in your chosen field?</td>\n",
       "    </tr>\n",
       "  </tbody>\n",
       "</table>\n",
       "</div>"
      ],
      "text/plain": [
       "                                           Questions\n",
       "0            Can you share something about yourself?\n",
       "1    Could you give a brief overview of who you are?\n",
       "2  What are your short-term and long-term career ...\n",
       "3  What position do you see yourself in five year...\n",
       "4  Why did you decide to study in your chosen field?"
      ]
     },
     "metadata": {},
     "output_type": "display_data"
    },
    {
     "data": {
      "text/plain": [
       "(100, 1)"
      ]
     },
     "metadata": {},
     "output_type": "display_data"
    }
   ],
   "source": [
    "test_df = pd.read_excel('./Dataset.xlsx', sheet_name='Test')\n",
    "display(test_df.head())\n",
    "display(test_df.shape)"
   ]
  },
  {
   "cell_type": "code",
   "execution_count": 14,
   "id": "1ec68fe6",
   "metadata": {},
   "outputs": [
    {
     "data": {
      "text/html": [
       "<div>\n",
       "<style scoped>\n",
       "    .dataframe tbody tr th:only-of-type {\n",
       "        vertical-align: middle;\n",
       "    }\n",
       "\n",
       "    .dataframe tbody tr th {\n",
       "        vertical-align: top;\n",
       "    }\n",
       "\n",
       "    .dataframe thead th {\n",
       "        text-align: right;\n",
       "    }\n",
       "</style>\n",
       "<table border=\"1\" class=\"dataframe\">\n",
       "  <thead>\n",
       "    <tr style=\"text-align: right;\">\n",
       "      <th></th>\n",
       "      <th>Questions</th>\n",
       "      <th>Ground Truth</th>\n",
       "    </tr>\n",
       "  </thead>\n",
       "  <tbody>\n",
       "    <tr>\n",
       "      <th>0</th>\n",
       "      <td>Can you share something about yourself?</td>\n",
       "      <td>Tell me about yourself</td>\n",
       "    </tr>\n",
       "    <tr>\n",
       "      <th>1</th>\n",
       "      <td>Could you give a brief overview of who you are?</td>\n",
       "      <td>Can you introduce yourself briefly?</td>\n",
       "    </tr>\n",
       "    <tr>\n",
       "      <th>2</th>\n",
       "      <td>What are your short-term and long-term career ...</td>\n",
       "      <td>What are your career goals?</td>\n",
       "    </tr>\n",
       "    <tr>\n",
       "      <th>3</th>\n",
       "      <td>What position do you see yourself in five year...</td>\n",
       "      <td>Where do you see yourself in five years?</td>\n",
       "    </tr>\n",
       "    <tr>\n",
       "      <th>4</th>\n",
       "      <td>Why did you decide to study in your chosen field?</td>\n",
       "      <td>Why did you choose your field of study?</td>\n",
       "    </tr>\n",
       "  </tbody>\n",
       "</table>\n",
       "</div>"
      ],
      "text/plain": [
       "                                           Questions  \\\n",
       "0            Can you share something about yourself?   \n",
       "1    Could you give a brief overview of who you are?   \n",
       "2  What are your short-term and long-term career ...   \n",
       "3  What position do you see yourself in five year...   \n",
       "4  Why did you decide to study in your chosen field?   \n",
       "\n",
       "                               Ground Truth  \n",
       "0                    Tell me about yourself  \n",
       "1       Can you introduce yourself briefly?  \n",
       "2               What are your career goals?  \n",
       "3  Where do you see yourself in five years?  \n",
       "4   Why did you choose your field of study?  "
      ]
     },
     "metadata": {},
     "output_type": "display_data"
    },
    {
     "data": {
      "text/plain": [
       "(100, 2)"
      ]
     },
     "metadata": {},
     "output_type": "display_data"
    }
   ],
   "source": [
    "test_df['Ground Truth'] = train_df['Questions']\n",
    "display(test_df.head())\n",
    "display(test_df.shape)"
   ]
  },
  {
   "cell_type": "code",
   "execution_count": 15,
   "id": "38e19852",
   "metadata": {},
   "outputs": [],
   "source": [
    "# Classifying the test sentences to the training dataset \n",
    "test_df['Matched Sentence'] = test_df.apply(lambda x: sentence_matching(x['Questions'], dataset_embeddings, raw_dataset)[0], axis = 1)"
   ]
  },
  {
   "cell_type": "code",
   "execution_count": 16,
   "id": "b5821e7d",
   "metadata": {},
   "outputs": [
    {
     "data": {
      "text/html": [
       "<div>\n",
       "<style scoped>\n",
       "    .dataframe tbody tr th:only-of-type {\n",
       "        vertical-align: middle;\n",
       "    }\n",
       "\n",
       "    .dataframe tbody tr th {\n",
       "        vertical-align: top;\n",
       "    }\n",
       "\n",
       "    .dataframe thead th {\n",
       "        text-align: right;\n",
       "    }\n",
       "</style>\n",
       "<table border=\"1\" class=\"dataframe\">\n",
       "  <thead>\n",
       "    <tr style=\"text-align: right;\">\n",
       "      <th></th>\n",
       "      <th>Questions</th>\n",
       "      <th>Ground Truth</th>\n",
       "      <th>Matched Sentence</th>\n",
       "    </tr>\n",
       "  </thead>\n",
       "  <tbody>\n",
       "    <tr>\n",
       "      <th>0</th>\n",
       "      <td>Can you share something about yourself?</td>\n",
       "      <td>Tell me about yourself</td>\n",
       "      <td>Tell me about yourself</td>\n",
       "    </tr>\n",
       "    <tr>\n",
       "      <th>1</th>\n",
       "      <td>Could you give a brief overview of who you are?</td>\n",
       "      <td>Can you introduce yourself briefly?</td>\n",
       "      <td>Tell me about yourself</td>\n",
       "    </tr>\n",
       "    <tr>\n",
       "      <th>2</th>\n",
       "      <td>What are your short-term and long-term career ...</td>\n",
       "      <td>What are your career goals?</td>\n",
       "      <td>What are your career goals?</td>\n",
       "    </tr>\n",
       "    <tr>\n",
       "      <th>3</th>\n",
       "      <td>What position do you see yourself in five year...</td>\n",
       "      <td>Where do you see yourself in five years?</td>\n",
       "      <td>Where do you see yourself in five years?</td>\n",
       "    </tr>\n",
       "    <tr>\n",
       "      <th>4</th>\n",
       "      <td>Why did you decide to study in your chosen field?</td>\n",
       "      <td>Why did you choose your field of study?</td>\n",
       "      <td>Why did you choose your field of study?</td>\n",
       "    </tr>\n",
       "  </tbody>\n",
       "</table>\n",
       "</div>"
      ],
      "text/plain": [
       "                                           Questions  \\\n",
       "0            Can you share something about yourself?   \n",
       "1    Could you give a brief overview of who you are?   \n",
       "2  What are your short-term and long-term career ...   \n",
       "3  What position do you see yourself in five year...   \n",
       "4  Why did you decide to study in your chosen field?   \n",
       "\n",
       "                               Ground Truth  \\\n",
       "0                    Tell me about yourself   \n",
       "1       Can you introduce yourself briefly?   \n",
       "2               What are your career goals?   \n",
       "3  Where do you see yourself in five years?   \n",
       "4   Why did you choose your field of study?   \n",
       "\n",
       "                           Matched Sentence  \n",
       "0                    Tell me about yourself  \n",
       "1                    Tell me about yourself  \n",
       "2               What are your career goals?  \n",
       "3  Where do you see yourself in five years?  \n",
       "4   Why did you choose your field of study?  "
      ]
     },
     "metadata": {},
     "output_type": "display_data"
    },
    {
     "data": {
      "text/plain": [
       "(100, 3)"
      ]
     },
     "metadata": {},
     "output_type": "display_data"
    }
   ],
   "source": [
    "display(test_df.head())\n",
    "display(test_df.shape)"
   ]
  },
  {
   "cell_type": "code",
   "execution_count": 19,
   "id": "d8a1a479",
   "metadata": {},
   "outputs": [
    {
     "name": "stdout",
     "output_type": "stream",
     "text": [
      "Accuracy: 78.00%\n"
     ]
    }
   ],
   "source": [
    "# Calculating the accuracy\n",
    "test_df['Match_or_not'] = test_df.apply(lambda x: 1 if x['Ground Truth'] == x['Matched Sentence'] else 0, axis=1)\n",
    "accuracy = test_df['Match_or_not'].sum() / test_df.shape[0]\n",
    "print(\"Accuracy: {:.2f}%\".format(accuracy * 100))"
   ]
  },
  {
   "cell_type": "code",
   "execution_count": 18,
   "id": "23192bbb",
   "metadata": {},
   "outputs": [
    {
     "data": {
      "text/html": [
       "<div>\n",
       "<style scoped>\n",
       "    .dataframe tbody tr th:only-of-type {\n",
       "        vertical-align: middle;\n",
       "    }\n",
       "\n",
       "    .dataframe tbody tr th {\n",
       "        vertical-align: top;\n",
       "    }\n",
       "\n",
       "    .dataframe thead th {\n",
       "        text-align: right;\n",
       "    }\n",
       "</style>\n",
       "<table border=\"1\" class=\"dataframe\">\n",
       "  <thead>\n",
       "    <tr style=\"text-align: right;\">\n",
       "      <th></th>\n",
       "      <th>Questions</th>\n",
       "      <th>Ground Truth</th>\n",
       "      <th>Matched Sentence</th>\n",
       "      <th>Match_or_not</th>\n",
       "    </tr>\n",
       "  </thead>\n",
       "  <tbody>\n",
       "    <tr>\n",
       "      <th>1</th>\n",
       "      <td>Could you give a brief overview of who you are?</td>\n",
       "      <td>Can you introduce yourself briefly?</td>\n",
       "      <td>Tell me about yourself</td>\n",
       "      <td>0</td>\n",
       "    </tr>\n",
       "    <tr>\n",
       "      <th>5</th>\n",
       "      <td>What inspires you to perform well?</td>\n",
       "      <td>What motivates you in life?</td>\n",
       "      <td>What unique skills make you stand out?</td>\n",
       "      <td>0</td>\n",
       "    </tr>\n",
       "    <tr>\n",
       "      <th>7</th>\n",
       "      <td>Where do you see yourself professionally in th...</td>\n",
       "      <td>What are your long-term aspirations?</td>\n",
       "      <td>Where do you see yourself in five years?</td>\n",
       "      <td>0</td>\n",
       "    </tr>\n",
       "    <tr>\n",
       "      <th>11</th>\n",
       "      <td>Are there any areas where you struggle and are...</td>\n",
       "      <td>What are your weaknesses?</td>\n",
       "      <td>How do you keep improving yourself?</td>\n",
       "      <td>0</td>\n",
       "    </tr>\n",
       "    <tr>\n",
       "      <th>12</th>\n",
       "      <td>How do you keep your knowledge and skills up-t...</td>\n",
       "      <td>How do you stay updated in your field?</td>\n",
       "      <td>What new skills have you learned recently?</td>\n",
       "      <td>0</td>\n",
       "    </tr>\n",
       "    <tr>\n",
       "      <th>16</th>\n",
       "      <td>What steps do you take for personal and profes...</td>\n",
       "      <td>How do you keep improving yourself?</td>\n",
       "      <td>What is your greatest professional achievement?</td>\n",
       "      <td>0</td>\n",
       "    </tr>\n",
       "    <tr>\n",
       "      <th>18</th>\n",
       "      <td>What is your typical approach to solving tough...</td>\n",
       "      <td>How do you approach problem-solving?</td>\n",
       "      <td>How do you deal with unforeseen challenges?</td>\n",
       "      <td>0</td>\n",
       "    </tr>\n",
       "    <tr>\n",
       "      <th>20</th>\n",
       "      <td>Why are you interested in this particular posi...</td>\n",
       "      <td>Why do you want this job?</td>\n",
       "      <td>What interests you most about this role?</td>\n",
       "      <td>0</td>\n",
       "    </tr>\n",
       "    <tr>\n",
       "      <th>27</th>\n",
       "      <td>What would you aim to accomplish early in this...</td>\n",
       "      <td>What do you expect to accomplish in the first ...</td>\n",
       "      <td>What interests you most about this role?</td>\n",
       "      <td>0</td>\n",
       "    </tr>\n",
       "    <tr>\n",
       "      <th>30</th>\n",
       "      <td>What’s the biggest success you’ve had in your ...</td>\n",
       "      <td>What is your greatest professional achievement?</td>\n",
       "      <td>What inspired you to pursue this career?</td>\n",
       "      <td>0</td>\n",
       "    </tr>\n",
       "    <tr>\n",
       "      <th>37</th>\n",
       "      <td>What is the professional achievement you’re mo...</td>\n",
       "      <td>What is your proudest accomplishment?</td>\n",
       "      <td>What is your greatest professional achievement?</td>\n",
       "      <td>0</td>\n",
       "    </tr>\n",
       "    <tr>\n",
       "      <th>39</th>\n",
       "      <td>What’s the most complicated problem you’ve eve...</td>\n",
       "      <td>Can you give an example of a complex problem y...</td>\n",
       "      <td>Can you share a time you solved a complex issue?</td>\n",
       "      <td>0</td>\n",
       "    </tr>\n",
       "    <tr>\n",
       "      <th>46</th>\n",
       "      <td>How do you manage multiple responsibilities at...</td>\n",
       "      <td>What’s your approach to multitasking?</td>\n",
       "      <td>What steps would you take to prioritize multip...</td>\n",
       "      <td>0</td>\n",
       "    </tr>\n",
       "    <tr>\n",
       "      <th>47</th>\n",
       "      <td>Can you share an example of exceeding your job...</td>\n",
       "      <td>Can you share an example of going above and be...</td>\n",
       "      <td>Can you share a time when you exceeded expecta...</td>\n",
       "      <td>0</td>\n",
       "    </tr>\n",
       "    <tr>\n",
       "      <th>53</th>\n",
       "      <td>Can you describe a time when your team succeed...</td>\n",
       "      <td>Can you describe a successful team project?</td>\n",
       "      <td>Describe a time you worked in a team</td>\n",
       "      <td>0</td>\n",
       "    </tr>\n",
       "    <tr>\n",
       "      <th>58</th>\n",
       "      <td>How do you establish trust and rapport with co...</td>\n",
       "      <td>What steps do you take to build trust in a team?</td>\n",
       "      <td>How do you build relationships with coworkers?</td>\n",
       "      <td>0</td>\n",
       "    </tr>\n",
       "    <tr>\n",
       "      <th>70</th>\n",
       "      <td>Share an example of solving a tough problem at...</td>\n",
       "      <td>Can you share a time you solved a complex issue?</td>\n",
       "      <td>How do you approach problem-solving?</td>\n",
       "      <td>0</td>\n",
       "    </tr>\n",
       "    <tr>\n",
       "      <th>72</th>\n",
       "      <td>Have you made any improvements to workflows in...</td>\n",
       "      <td>Have you ever optimized a process at work?</td>\n",
       "      <td>Have you ever developed a new system or workflow?</td>\n",
       "      <td>0</td>\n",
       "    </tr>\n",
       "    <tr>\n",
       "      <th>81</th>\n",
       "      <td>Have you helped someone grow professionally?</td>\n",
       "      <td>Have you ever mentored someone at work?</td>\n",
       "      <td>Have you ever trained or mentored someone?</td>\n",
       "      <td>0</td>\n",
       "    </tr>\n",
       "    <tr>\n",
       "      <th>87</th>\n",
       "      <td>How do you process and implement constructive ...</td>\n",
       "      <td>What’s your approach to handling criticism?</td>\n",
       "      <td>How do you handle feedback or criticism?</td>\n",
       "      <td>0</td>\n",
       "    </tr>\n",
       "    <tr>\n",
       "      <th>97</th>\n",
       "      <td>Do you have questions about our organization o...</td>\n",
       "      <td>Do you have any questions for us?</td>\n",
       "      <td>What do you know about our company?</td>\n",
       "      <td>0</td>\n",
       "    </tr>\n",
       "    <tr>\n",
       "      <th>98</th>\n",
       "      <td>Is there anything we should know that we didn’...</td>\n",
       "      <td>Is there anything else you’d like us to know?</td>\n",
       "      <td>Have you ever helped resolve a misunderstanding?</td>\n",
       "      <td>0</td>\n",
       "    </tr>\n",
       "  </tbody>\n",
       "</table>\n",
       "</div>"
      ],
      "text/plain": [
       "                                            Questions  \\\n",
       "1     Could you give a brief overview of who you are?   \n",
       "5                  What inspires you to perform well?   \n",
       "7   Where do you see yourself professionally in th...   \n",
       "11  Are there any areas where you struggle and are...   \n",
       "12  How do you keep your knowledge and skills up-t...   \n",
       "16  What steps do you take for personal and profes...   \n",
       "18  What is your typical approach to solving tough...   \n",
       "20  Why are you interested in this particular posi...   \n",
       "27  What would you aim to accomplish early in this...   \n",
       "30  What’s the biggest success you’ve had in your ...   \n",
       "37  What is the professional achievement you’re mo...   \n",
       "39  What’s the most complicated problem you’ve eve...   \n",
       "46  How do you manage multiple responsibilities at...   \n",
       "47  Can you share an example of exceeding your job...   \n",
       "53  Can you describe a time when your team succeed...   \n",
       "58  How do you establish trust and rapport with co...   \n",
       "70  Share an example of solving a tough problem at...   \n",
       "72  Have you made any improvements to workflows in...   \n",
       "81       Have you helped someone grow professionally?   \n",
       "87  How do you process and implement constructive ...   \n",
       "97  Do you have questions about our organization o...   \n",
       "98  Is there anything we should know that we didn’...   \n",
       "\n",
       "                                         Ground Truth  \\\n",
       "1                 Can you introduce yourself briefly?   \n",
       "5                         What motivates you in life?   \n",
       "7                What are your long-term aspirations?   \n",
       "11                          What are your weaknesses?   \n",
       "12             How do you stay updated in your field?   \n",
       "16                How do you keep improving yourself?   \n",
       "18               How do you approach problem-solving?   \n",
       "20                          Why do you want this job?   \n",
       "27  What do you expect to accomplish in the first ...   \n",
       "30    What is your greatest professional achievement?   \n",
       "37              What is your proudest accomplishment?   \n",
       "39  Can you give an example of a complex problem y...   \n",
       "46              What’s your approach to multitasking?   \n",
       "47  Can you share an example of going above and be...   \n",
       "53        Can you describe a successful team project?   \n",
       "58   What steps do you take to build trust in a team?   \n",
       "70   Can you share a time you solved a complex issue?   \n",
       "72         Have you ever optimized a process at work?   \n",
       "81            Have you ever mentored someone at work?   \n",
       "87        What’s your approach to handling criticism?   \n",
       "97                  Do you have any questions for us?   \n",
       "98      Is there anything else you’d like us to know?   \n",
       "\n",
       "                                     Matched Sentence  Match_or_not  \n",
       "1                              Tell me about yourself             0  \n",
       "5              What unique skills make you stand out?             0  \n",
       "7            Where do you see yourself in five years?             0  \n",
       "11                How do you keep improving yourself?             0  \n",
       "12         What new skills have you learned recently?             0  \n",
       "16    What is your greatest professional achievement?             0  \n",
       "18        How do you deal with unforeseen challenges?             0  \n",
       "20           What interests you most about this role?             0  \n",
       "27           What interests you most about this role?             0  \n",
       "30           What inspired you to pursue this career?             0  \n",
       "37    What is your greatest professional achievement?             0  \n",
       "39   Can you share a time you solved a complex issue?             0  \n",
       "46  What steps would you take to prioritize multip...             0  \n",
       "47  Can you share a time when you exceeded expecta...             0  \n",
       "53               Describe a time you worked in a team             0  \n",
       "58     How do you build relationships with coworkers?             0  \n",
       "70               How do you approach problem-solving?             0  \n",
       "72  Have you ever developed a new system or workflow?             0  \n",
       "81         Have you ever trained or mentored someone?             0  \n",
       "87           How do you handle feedback or criticism?             0  \n",
       "97                What do you know about our company?             0  \n",
       "98   Have you ever helped resolve a misunderstanding?             0  "
      ]
     },
     "execution_count": 18,
     "metadata": {},
     "output_type": "execute_result"
    }
   ],
   "source": [
    "# The ones which are not correctly classified\n",
    "test_df[test_df['Match_or_not'] == 0].to_excel('Test_cosine.xlsx')\n",
    "test_df[test_df['Match_or_not'] == 0]"
   ]
  },
  {
   "cell_type": "code",
   "execution_count": null,
   "id": "d2dcd312",
   "metadata": {},
   "outputs": [],
   "source": []
  }
 ],
 "metadata": {
  "kernelspec": {
   "display_name": "Python 3 (ipykernel)",
   "language": "python",
   "name": "python3"
  },
  "language_info": {
   "codemirror_mode": {
    "name": "ipython",
    "version": 3
   },
   "file_extension": ".py",
   "mimetype": "text/x-python",
   "name": "python",
   "nbconvert_exporter": "python",
   "pygments_lexer": "ipython3",
   "version": "3.10.15"
  }
 },
 "nbformat": 4,
 "nbformat_minor": 5
}
