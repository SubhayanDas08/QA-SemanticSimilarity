{
 "cells": [
  {
   "cell_type": "markdown",
   "id": "b104ce08",
   "metadata": {},
   "source": [
    "# Import libraries"
   ]
  },
  {
   "cell_type": "code",
   "execution_count": 14,
   "id": "d6e63b1c",
   "metadata": {},
   "outputs": [],
   "source": [
    "import re\n",
    "import nltk\n",
    "from nltk.corpus import stopwords\n",
    "from nltk.tokenize import word_tokenize\n",
    "from nltk.stem import WordNetLemmatizer\n",
    "import pandas as pd\n",
    "from sentence_transformers import SentenceTransformer\n",
    "from sklearn.metrics.pairwise import cosine_similarity"
   ]
  },
  {
   "cell_type": "markdown",
   "id": "3bc92b23",
   "metadata": {},
   "source": [
    "# Preprocessing"
   ]
  },
  {
   "cell_type": "code",
   "execution_count": 2,
   "id": "22b4272b",
   "metadata": {},
   "outputs": [
    {
     "name": "stderr",
     "output_type": "stream",
     "text": [
      "[nltk_data] Downloading package stopwords to C:\\Users\\Subhayan\n",
      "[nltk_data]     Das\\AppData\\Roaming\\nltk_data...\n",
      "[nltk_data]   Package stopwords is already up-to-date!\n",
      "[nltk_data] Downloading package punkt to C:\\Users\\Subhayan\n",
      "[nltk_data]     Das\\AppData\\Roaming\\nltk_data...\n",
      "[nltk_data]   Package punkt is already up-to-date!\n",
      "[nltk_data] Downloading package wordnet to C:\\Users\\Subhayan\n",
      "[nltk_data]     Das\\AppData\\Roaming\\nltk_data...\n",
      "[nltk_data]   Package wordnet is already up-to-date!\n"
     ]
    },
    {
     "data": {
      "text/plain": [
       "True"
      ]
     },
     "execution_count": 2,
     "metadata": {},
     "output_type": "execute_result"
    }
   ],
   "source": [
    "# Download required NLTK data files\n",
    "nltk.download('stopwords')\n",
    "nltk.download('punkt')\n",
    "nltk.download('wordnet')"
   ]
  },
  {
   "cell_type": "code",
   "execution_count": 3,
   "id": "c8ba49c2",
   "metadata": {},
   "outputs": [],
   "source": [
    "# Initialize tools\n",
    "stop_words = set(stopwords.words('english'))\n",
    "lemmatizer = WordNetLemmatizer()"
   ]
  },
  {
   "cell_type": "code",
   "execution_count": 8,
   "id": "1285aa22",
   "metadata": {},
   "outputs": [],
   "source": [
    "def preprocess_sentence(sentence):\n",
    "    \"\"\"\n",
    "    Preprocess a single sentence: remove special characters, stop words, and apply lemmatization.\n",
    "    \"\"\"\n",
    "    # 1. Remove special characters and numbers\n",
    "    sentence = re.sub(r\"[^a-zA-Z\\s]\", \"\", sentence)\n",
    "    \n",
    "    # 2. Tokenize the sentence\n",
    "    words = word_tokenize(sentence.lower())  # Convert to lowercase and tokenize\n",
    "    \n",
    "    # 3. Remove stop words\n",
    "#     filtered_words = [word for word in words if word not in stop_words]\n",
    "    \n",
    "#     # 4. Lemmatize words\n",
    "#     lemmatized_words = [lemmatizer.lemmatize(word) for word in filtered_words]\n",
    "    \n",
    "    # 4. Lemmatize words\n",
    "    lemmatized_words = [lemmatizer.lemmatize(word) for word in words]\n",
    "    \n",
    "    # 5. Reconstruct the sentence\n",
    "    return \" \".join(lemmatized_words)"
   ]
  },
  {
   "cell_type": "code",
   "execution_count": 9,
   "id": "ec682a53",
   "metadata": {},
   "outputs": [],
   "source": [
    "known_ans = \"The Dandi March, also known as the Salt March, was a pivotal act of civil disobedience led by Mahatma Gandhi in 1930, aimed at protesting British colonial rule in India. The march began on March 12, 1930, when Gandhi and 78 followers set out from Sabarmati Ashram in Ahmedabad to the coastal village of Dandi, a distance of 240 miles. The purpose of the march was to defy the British monopoly on salt production and the salt tax, which oppressed the Indian population. Upon reaching Dandi, Gandhi made salt from seawater, symbolically breaking the law. The march galvanized millions across India, sparking widespread participation in the Salt Satyagraha movement, and is considered a defining moment in the Indian independence struggle, showcasing the power of nonviolent resistance.\"\n",
    "\n",
    "# Correct answer (just rephrased)\n",
    "unknown_ans1 = \"The Dandi March, also referred to as the Salt March, was a significant act of nonviolent resistance led by Mahatma Gandhi in 1930 to challenge British colonial policies in India. Starting on March 12, 1930, Gandhi, along with 78 followers, embarked on a 240-mile journey from Sabarmati Ashram in Ahmedabad to the coastal village of Dandi. The purpose of the march was to protest the British-imposed salt tax and monopoly on salt production, which burdened the Indian people. Upon reaching Dandi, Gandhi symbolically defied the law by making salt from seawater. The march ignited widespread participation in the Salt Satyagraha movement and became a crucial turning point in India’s fight for independence, demonstrating the power of peaceful civil disobedience.\"\n",
    "\n",
    "# Short answer\n",
    "unknown_ans2 = \"The Dandi March, led by Mahatma Gandhi in 1930, was a key act of civil disobedience against British rule. Gandhi and 78 followers marched 240 miles from Sabarmati to Dandi to protest the British salt tax. Upon reaching Dandi, Gandhi made salt from seawater, breaking the law. The march sparked widespread participation in the Salt Satyagraha and became a turning point in India’s independence movement, highlighting the effectiveness of nonviolent protest.\"\n",
    "\n",
    "# Completely different context based answer\n",
    "unknown_ans3 = \"Mahatma Gandhi pursued his law studies in London at University College London from 1888 to 1891. Initially, he faced challenges adjusting to life in a foreign country, dealing with racial prejudice and cultural differences. However, his determination to become a barrister led him to complete his studies and earn a law degree. Gandhi’s time in London also exposed him to various ideas, including those of Western philosophers and thinkers such as Henry David Thoreau and Leo Tolstoy, which later influenced his philosophy of nonviolence and civil disobedience. After completing his education, Gandhi returned to India, where he initially struggled to establish a legal practice before embarking on his transformative journey of social and political activism.\"\n",
    "\n"
   ]
  },
  {
   "cell_type": "markdown",
   "id": "a0f27e1f",
   "metadata": {},
   "source": [
    "# Unsupervised modeling with encodings using Sentence Bert"
   ]
  },
  {
   "cell_type": "code",
   "execution_count": 10,
   "id": "f7d7bf0b",
   "metadata": {},
   "outputs": [],
   "source": [
    "# Step 1: Load Sentence-BERT model\n",
    "model = SentenceTransformer('all-MiniLM-L6-v2')"
   ]
  },
  {
   "cell_type": "code",
   "execution_count": 11,
   "id": "0f788888",
   "metadata": {},
   "outputs": [],
   "source": [
    "# Encode the paragraphs to get their embeddings\n",
    "embedding1 = model.encode(preprocess_sentence(known_ans))\n",
    "embedding2 = model.encode(preprocess_sentence(unknown_ans1))\n",
    "embedding3 = model.encode(preprocess_sentence(unknown_ans2))\n",
    "embedding4 = model.encode(preprocess_sentence(unknown_ans3))\n"
   ]
  },
  {
   "cell_type": "code",
   "execution_count": 15,
   "id": "63315f14",
   "metadata": {},
   "outputs": [
    {
     "name": "stdout",
     "output_type": "stream",
     "text": [
      "Similarity: 97.82%\n"
     ]
    }
   ],
   "source": [
    "# Calculate cosine similarity\n",
    "similarity = cosine_similarity([embedding1], [embedding2])\n",
    "\n",
    "# Print similarity percentage\n",
    "print(f\"Similarity: {similarity[0][0] * 100:.2f}%\")"
   ]
  },
  {
   "cell_type": "code",
   "execution_count": 16,
   "id": "f570f6a8-3976-426b-875f-0f1ef77ad466",
   "metadata": {},
   "outputs": [
    {
     "name": "stdout",
     "output_type": "stream",
     "text": [
      "Similarity: 94.70%\n"
     ]
    }
   ],
   "source": [
    "# Calculate cosine similarity\n",
    "similarity = cosine_similarity([embedding1], [embedding3])\n",
    "\n",
    "# Print similarity percentage\n",
    "print(f\"Similarity: {similarity[0][0] * 100:.2f}%\")"
   ]
  },
  {
   "cell_type": "code",
   "execution_count": 17,
   "id": "597d08bb-e686-4a00-a82b-45a255bb602c",
   "metadata": {},
   "outputs": [
    {
     "name": "stdout",
     "output_type": "stream",
     "text": [
      "Similarity: 35.30%\n"
     ]
    }
   ],
   "source": [
    "# Calculate cosine similarity\n",
    "similarity = cosine_similarity([embedding1], [embedding4])\n",
    "\n",
    "# Print similarity percentage\n",
    "print(f\"Similarity: {similarity[0][0] * 100:.2f}%\")"
   ]
  },
  {
   "cell_type": "code",
   "execution_count": null,
   "id": "207fc00c-6c64-4481-b739-5ee1c9349072",
   "metadata": {},
   "outputs": [],
   "source": []
  }
 ],
 "metadata": {
  "kernelspec": {
   "display_name": "Python 3 (ipykernel)",
   "language": "python",
   "name": "python3"
  },
  "language_info": {
   "codemirror_mode": {
    "name": "ipython",
    "version": 3
   },
   "file_extension": ".py",
   "mimetype": "text/x-python",
   "name": "python",
   "nbconvert_exporter": "python",
   "pygments_lexer": "ipython3",
   "version": "3.7.2"
  }
 },
 "nbformat": 4,
 "nbformat_minor": 5
}
