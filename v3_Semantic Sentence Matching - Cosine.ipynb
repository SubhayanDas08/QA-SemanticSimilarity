{
 "cells": [
  {
   "cell_type": "markdown",
   "id": "b104ce08",
   "metadata": {},
   "source": [
    "# Import libraries"
   ]
  },
  {
   "cell_type": "code",
   "execution_count": 1,
   "id": "d6e63b1c",
   "metadata": {},
   "outputs": [
    {
     "name": "stderr",
     "output_type": "stream",
     "text": [
      "C:\\ProgramData\\anaconda3\\envs\\ase_env\\lib\\site-packages\\tqdm\\auto.py:21: TqdmWarning: IProgress not found. Please update jupyter and ipywidgets. See https://ipywidgets.readthedocs.io/en/stable/user_install.html\n",
      "  from .autonotebook import tqdm as notebook_tqdm\n"
     ]
    }
   ],
   "source": [
    "# Import libraries\n",
    "import re\n",
    "import nltk\n",
    "from nltk.corpus import stopwords\n",
    "from nltk.tokenize import word_tokenize\n",
    "from nltk.stem import WordNetLemmatizer\n",
    "import pandas as pd\n",
    "from sentence_transformers import SentenceTransformer, util\n",
    "from sklearn.model_selection import train_test_split\n",
    "from parrot import Parrot\n",
    "import torch"
   ]
  },
  {
   "cell_type": "code",
   "execution_count": 2,
   "id": "78003099-a17e-4efd-81e7-5cea31ce6c7e",
   "metadata": {},
   "outputs": [
    {
     "name": "stdout",
     "output_type": "stream",
     "text": [
      "cuda\n"
     ]
    }
   ],
   "source": [
    "def random_state(seed):\n",
    "    torch.manual_seed(seed)\n",
    "    if torch.cuda.is_available():\n",
    "        torch.cuda.manual_seed_all(seed)\n",
    "device = 'cuda' if torch.cuda.is_available() else 'cpu'\n",
    "random_state(1234)\n",
    "print(device)"
   ]
  },
  {
   "cell_type": "markdown",
   "id": "3bc92b23",
   "metadata": {},
   "source": [
    "# Preprocessing"
   ]
  },
  {
   "cell_type": "code",
   "execution_count": 3,
   "id": "22b4272b",
   "metadata": {},
   "outputs": [
    {
     "name": "stderr",
     "output_type": "stream",
     "text": [
      "[nltk_data] Downloading package stopwords to C:\\Users\\Subhayan\n",
      "[nltk_data]     Das\\AppData\\Roaming\\nltk_data...\n",
      "[nltk_data]   Package stopwords is already up-to-date!\n",
      "[nltk_data] Downloading package punkt to C:\\Users\\Subhayan\n",
      "[nltk_data]     Das\\AppData\\Roaming\\nltk_data...\n",
      "[nltk_data]   Package punkt is already up-to-date!\n",
      "[nltk_data] Downloading package wordnet to C:\\Users\\Subhayan\n",
      "[nltk_data]     Das\\AppData\\Roaming\\nltk_data...\n",
      "[nltk_data]   Package wordnet is already up-to-date!\n",
      "[nltk_data] Downloading package punkt_tab to C:\\Users\\Subhayan\n",
      "[nltk_data]     Das\\AppData\\Roaming\\nltk_data...\n",
      "[nltk_data]   Package punkt_tab is already up-to-date!\n"
     ]
    },
    {
     "data": {
      "text/plain": [
       "True"
      ]
     },
     "execution_count": 3,
     "metadata": {},
     "output_type": "execute_result"
    }
   ],
   "source": [
    "# Download required NLTK data files\n",
    "nltk.download('stopwords')\n",
    "nltk.download('punkt')\n",
    "nltk.download('wordnet')\n",
    "nltk.download('punkt_tab')"
   ]
  },
  {
   "cell_type": "code",
   "execution_count": 4,
   "id": "c8ba49c2",
   "metadata": {},
   "outputs": [],
   "source": [
    "# Initialize tools\n",
    "stop_words = set(stopwords.words('english'))\n",
    "lemmatizer = WordNetLemmatizer()"
   ]
  },
  {
   "cell_type": "code",
   "execution_count": 5,
   "id": "1285aa22",
   "metadata": {},
   "outputs": [],
   "source": [
    "def preprocess_sentence(sentence):\n",
    "    \"\"\"\n",
    "    Preprocess a single sentence: remove special characters, stop words, and apply lemmatization.\n",
    "    \"\"\"\n",
    "    # 1. Remove special characters and numbers\n",
    "    sentence = re.sub(r\"[^a-zA-Z\\s]\", \"\", sentence)\n",
    "    \n",
    "    # 2. Tokenize the sentence\n",
    "    words = word_tokenize(sentence.lower())  # Convert to lowercase and tokenize\n",
    "    \n",
    "    # 3. Remove stop words\n",
    "#     filtered_words = [word for word in words if word not in stop_words]\n",
    "    \n",
    "#     # 4. Lemmatize words\n",
    "#     lemmatized_words = [lemmatizer.lemmatize(word) for word in filtered_words]\n",
    "    \n",
    "    # 4. Lemmatize words\n",
    "    lemmatized_words = [lemmatizer.lemmatize(word) for word in words]\n",
    "    \n",
    "    # 5. Reconstruct the sentence\n",
    "    return \" \".join(lemmatized_words)"
   ]
  },
  {
   "cell_type": "code",
   "execution_count": 6,
   "id": "dea9b712-b4dc-4484-b17f-e5539d41d518",
   "metadata": {},
   "outputs": [],
   "source": [
    "def preprocess_augmented_dataset(augmented_dataset):\n",
    "    \"\"\"\n",
    "    Preprocess a dataset of augmented sentences (original and paraphrases).\n",
    "    \"\"\"\n",
    "    return [ [preprocess_sentence(sentence) for sentence in sentence_group] for sentence_group in augmented_dataset ]"
   ]
  },
  {
   "cell_type": "code",
   "execution_count": 7,
   "id": "0f788888",
   "metadata": {},
   "outputs": [
    {
     "data": {
      "text/html": [
       "<div>\n",
       "<style scoped>\n",
       "    .dataframe tbody tr th:only-of-type {\n",
       "        vertical-align: middle;\n",
       "    }\n",
       "\n",
       "    .dataframe tbody tr th {\n",
       "        vertical-align: top;\n",
       "    }\n",
       "\n",
       "    .dataframe thead th {\n",
       "        text-align: right;\n",
       "    }\n",
       "</style>\n",
       "<table border=\"1\" class=\"dataframe\">\n",
       "  <thead>\n",
       "    <tr style=\"text-align: right;\">\n",
       "      <th></th>\n",
       "      <th>Questions</th>\n",
       "    </tr>\n",
       "  </thead>\n",
       "  <tbody>\n",
       "    <tr>\n",
       "      <th>0</th>\n",
       "      <td>Tell me about yourself</td>\n",
       "    </tr>\n",
       "    <tr>\n",
       "      <th>1</th>\n",
       "      <td>Can you introduce yourself briefly?</td>\n",
       "    </tr>\n",
       "    <tr>\n",
       "      <th>2</th>\n",
       "      <td>What are your career goals?</td>\n",
       "    </tr>\n",
       "    <tr>\n",
       "      <th>3</th>\n",
       "      <td>Where do you see yourself in five years?</td>\n",
       "    </tr>\n",
       "    <tr>\n",
       "      <th>4</th>\n",
       "      <td>Why did you choose your field of study?</td>\n",
       "    </tr>\n",
       "  </tbody>\n",
       "</table>\n",
       "</div>"
      ],
      "text/plain": [
       "                                  Questions\n",
       "0                    Tell me about yourself\n",
       "1       Can you introduce yourself briefly?\n",
       "2               What are your career goals?\n",
       "3  Where do you see yourself in five years?\n",
       "4   Why did you choose your field of study?"
      ]
     },
     "metadata": {},
     "output_type": "display_data"
    },
    {
     "data": {
      "text/plain": [
       "(100, 1)"
      ]
     },
     "metadata": {},
     "output_type": "display_data"
    }
   ],
   "source": [
    "\n",
    "train_df = pd.read_excel('./Dataset.xlsx', sheet_name='Train')\n",
    "display(train_df.head())\n",
    "display(train_df.shape)"
   ]
  },
  {
   "cell_type": "code",
   "execution_count": 8,
   "id": "b4d7ff96",
   "metadata": {},
   "outputs": [
    {
     "data": {
      "text/plain": [
       "100"
      ]
     },
     "execution_count": 8,
     "metadata": {},
     "output_type": "execute_result"
    }
   ],
   "source": [
    "raw_dataset = list(train_df['Questions'])\n",
    "len(raw_dataset)"
   ]
  },
  {
   "cell_type": "code",
   "execution_count": 9,
   "id": "f74d6d17",
   "metadata": {},
   "outputs": [
    {
     "name": "stderr",
     "output_type": "stream",
     "text": [
      "C:\\ProgramData\\anaconda3\\envs\\ase_env\\lib\\site-packages\\transformers\\models\\auto\\tokenization_auto.py:809: FutureWarning: The `use_auth_token` argument is deprecated and will be removed in v5 of Transformers. Please use `token` instead.\n",
      "  warnings.warn(\n",
      "You are using the default legacy behaviour of the <class 'transformers.models.t5.tokenization_t5.T5Tokenizer'>. This is expected, and simply means that the `legacy` (previous) behavior will be used so nothing changes for you. If you want to use the new behaviour, set `legacy=False`. This should only be set if you understand what it means, and thoroughly read the reason why this was added as explained in https://github.com/huggingface/transformers/pull/24565\n",
      "C:\\ProgramData\\anaconda3\\envs\\ase_env\\lib\\site-packages\\transformers\\models\\auto\\auto_factory.py:471: FutureWarning: The `use_auth_token` argument is deprecated and will be removed in v5 of Transformers. Please use `token` instead.\n",
      "  warnings.warn(\n",
      "C:\\ProgramData\\anaconda3\\envs\\ase_env\\lib\\site-packages\\transformers\\generation\\configuration_utils.py:638: UserWarning: `num_beams` is set to 1. However, `early_stopping` is set to `True` -- this flag is only used in beam-based generation modes. You should set `num_beams>1` or unset `early_stopping`.\n",
      "  warnings.warn(\n"
     ]
    },
    {
     "name": "stdout",
     "output_type": "stream",
     "text": [
      "Warning: No paraphrases generated for sentence: What certifications do you hold?\n",
      "Warning: No paraphrases generated for sentence: How do you keep improving yourself?\n",
      "Warning: No paraphrases generated for sentence: What do you expect to accomplish in the first six months?\n",
      "Warning: No paraphrases generated for sentence: How do you measure success in your projects?\n"
     ]
    }
   ],
   "source": [
    "# Data Augmentation (Using Parrot for paraphrasing)\n",
    "parrot = Parrot(model_tag=\"prithivida/parrot_paraphraser_on_T5\", use_gpu=True)\n",
    "\n",
    "augmented_dataset = []\n",
    "for sentence in raw_dataset:\n",
    "    # Start with the original sentence\n",
    "    sentence_group = [sentence]  \n",
    "    \n",
    "    # Generate paraphrases\n",
    "    paraphrases = parrot.augment(sentence)\n",
    "    \n",
    "    # If paraphrases exist, add them to the sentence_group\n",
    "    if paraphrases is not None:\n",
    "        for paraphrase, _ in paraphrases:\n",
    "            sentence_group.append(paraphrase)  # Add the paraphrase to the group\n",
    "    else:\n",
    "        print(f\"Warning: No paraphrases generated for sentence: {sentence}\")\n",
    "    \n",
    "    # Add the sentence group (original + paraphrases) to the augmented dataset\n",
    "    augmented_dataset.append(sentence_group)\n"
   ]
  },
  {
   "cell_type": "code",
   "execution_count": 10,
   "id": "07a844ff-2c6a-42ae-8a79-42cf98333f83",
   "metadata": {},
   "outputs": [
    {
     "data": {
      "text/plain": [
       "100"
      ]
     },
     "execution_count": 10,
     "metadata": {},
     "output_type": "execute_result"
    }
   ],
   "source": [
    "augmented_preprocessed_dataset = preprocess_augmented_dataset(augmented_dataset)\n",
    "len(augmented_preprocessed_dataset)"
   ]
  },
  {
   "cell_type": "markdown",
   "id": "a0f27e1f",
   "metadata": {},
   "source": [
    "# Unsupervised modeling with encodings using Sentence Bert"
   ]
  },
  {
   "cell_type": "code",
   "execution_count": 11,
   "id": "f7d7bf0b",
   "metadata": {},
   "outputs": [],
   "source": [
    "# Step 1: Load Sentence-BERT model\n",
    "model = SentenceTransformer('all-MiniLM-L6-v2')"
   ]
  },
  {
   "cell_type": "code",
   "execution_count": 12,
   "id": "f5d390fc-994a-46de-a356-bfe25ea81703",
   "metadata": {},
   "outputs": [
    {
     "data": {
      "text/plain": [
       "100"
      ]
     },
     "execution_count": 12,
     "metadata": {},
     "output_type": "execute_result"
    }
   ],
   "source": [
    "# Concatenate the sentences within each group (original + paraphrases) into a single string\n",
    "augmented_concatenated_dataset = [\" \".join(group) for group in augmented_preprocessed_dataset]\n",
    "len(augmented_concatenated_dataset)"
   ]
  },
  {
   "cell_type": "code",
   "execution_count": 13,
   "id": "443089a7",
   "metadata": {},
   "outputs": [],
   "source": [
    "# Step 2: Generate Embeddings for the Augmented Dataset\n",
    "dataset_embeddings = model.encode(augmented_concatenated_dataset, convert_to_tensor=True)"
   ]
  },
  {
   "cell_type": "code",
   "execution_count": 14,
   "id": "e18b03a0",
   "metadata": {},
   "outputs": [],
   "source": [
    "def sentence_matching(unknown_sentence, dataset_embeddings, raw_dataset):\n",
    "    # Step 3: Process an Unknown Sentence\n",
    "    preprocessed_unknown_sentence = preprocess_sentence(unknown_sentence)\n",
    "    unknown_embedding = model.encode(preprocessed_unknown_sentence, convert_to_tensor=True)\n",
    "    \n",
    "    # Step 4: Find the Most Similar Sentence\n",
    "    similarity_scores = util.cos_sim(unknown_embedding, dataset_embeddings)\n",
    "    most_similar_idx = similarity_scores.argmax().item()\n",
    "    \n",
    "    return (raw_dataset[most_similar_idx], preprocessed_unknown_sentence)"
   ]
  },
  {
   "cell_type": "code",
   "execution_count": 15,
   "id": "63315f14",
   "metadata": {},
   "outputs": [
    {
     "name": "stdout",
     "output_type": "stream",
     "text": [
      "Input Sentence: What do you consider your strongest skills?\n",
      "Preprocessed Input Sentence: what do you consider your strongest skill\n",
      "Most Similar Sentence: What are your greatest strengths?\n"
     ]
    }
   ],
   "source": [
    "# Test Sentence Matching\n",
    "unknown_sentence = 'What do you consider your strongest skills?'\n",
    "matched_sentence, preprocessed_unknown_sentence = sentence_matching(unknown_sentence, dataset_embeddings, raw_dataset)\n",
    "\n",
    "# Output the results\n",
    "print(\"Input Sentence:\", unknown_sentence)\n",
    "print(\"Preprocessed Input Sentence:\", preprocessed_unknown_sentence)\n",
    "print(\"Most Similar Sentence:\", matched_sentence)"
   ]
  },
  {
   "cell_type": "markdown",
   "id": "22df7a27",
   "metadata": {},
   "source": [
    "# Testing"
   ]
  },
  {
   "cell_type": "code",
   "execution_count": 16,
   "id": "a883ac5c",
   "metadata": {},
   "outputs": [
    {
     "data": {
      "text/html": [
       "<div>\n",
       "<style scoped>\n",
       "    .dataframe tbody tr th:only-of-type {\n",
       "        vertical-align: middle;\n",
       "    }\n",
       "\n",
       "    .dataframe tbody tr th {\n",
       "        vertical-align: top;\n",
       "    }\n",
       "\n",
       "    .dataframe thead th {\n",
       "        text-align: right;\n",
       "    }\n",
       "</style>\n",
       "<table border=\"1\" class=\"dataframe\">\n",
       "  <thead>\n",
       "    <tr style=\"text-align: right;\">\n",
       "      <th></th>\n",
       "      <th>Questions</th>\n",
       "    </tr>\n",
       "  </thead>\n",
       "  <tbody>\n",
       "    <tr>\n",
       "      <th>0</th>\n",
       "      <td>Can you share something about yourself?</td>\n",
       "    </tr>\n",
       "    <tr>\n",
       "      <th>1</th>\n",
       "      <td>Could you give a brief overview of who you are?</td>\n",
       "    </tr>\n",
       "    <tr>\n",
       "      <th>2</th>\n",
       "      <td>What are your short-term and long-term career ...</td>\n",
       "    </tr>\n",
       "    <tr>\n",
       "      <th>3</th>\n",
       "      <td>What position do you see yourself in five year...</td>\n",
       "    </tr>\n",
       "    <tr>\n",
       "      <th>4</th>\n",
       "      <td>Why did you decide to study in your chosen field?</td>\n",
       "    </tr>\n",
       "  </tbody>\n",
       "</table>\n",
       "</div>"
      ],
      "text/plain": [
       "                                           Questions\n",
       "0            Can you share something about yourself?\n",
       "1    Could you give a brief overview of who you are?\n",
       "2  What are your short-term and long-term career ...\n",
       "3  What position do you see yourself in five year...\n",
       "4  Why did you decide to study in your chosen field?"
      ]
     },
     "metadata": {},
     "output_type": "display_data"
    },
    {
     "data": {
      "text/plain": [
       "(100, 1)"
      ]
     },
     "metadata": {},
     "output_type": "display_data"
    }
   ],
   "source": [
    "test_df = pd.read_excel('./Dataset.xlsx', sheet_name='Test')\n",
    "display(test_df.head())\n",
    "display(test_df.shape)"
   ]
  },
  {
   "cell_type": "code",
   "execution_count": 17,
   "id": "1ec68fe6",
   "metadata": {},
   "outputs": [
    {
     "data": {
      "text/html": [
       "<div>\n",
       "<style scoped>\n",
       "    .dataframe tbody tr th:only-of-type {\n",
       "        vertical-align: middle;\n",
       "    }\n",
       "\n",
       "    .dataframe tbody tr th {\n",
       "        vertical-align: top;\n",
       "    }\n",
       "\n",
       "    .dataframe thead th {\n",
       "        text-align: right;\n",
       "    }\n",
       "</style>\n",
       "<table border=\"1\" class=\"dataframe\">\n",
       "  <thead>\n",
       "    <tr style=\"text-align: right;\">\n",
       "      <th></th>\n",
       "      <th>Questions</th>\n",
       "      <th>Ground Truth</th>\n",
       "    </tr>\n",
       "  </thead>\n",
       "  <tbody>\n",
       "    <tr>\n",
       "      <th>0</th>\n",
       "      <td>Can you share something about yourself?</td>\n",
       "      <td>Tell me about yourself</td>\n",
       "    </tr>\n",
       "    <tr>\n",
       "      <th>1</th>\n",
       "      <td>Could you give a brief overview of who you are?</td>\n",
       "      <td>Can you introduce yourself briefly?</td>\n",
       "    </tr>\n",
       "    <tr>\n",
       "      <th>2</th>\n",
       "      <td>What are your short-term and long-term career ...</td>\n",
       "      <td>What are your career goals?</td>\n",
       "    </tr>\n",
       "    <tr>\n",
       "      <th>3</th>\n",
       "      <td>What position do you see yourself in five year...</td>\n",
       "      <td>Where do you see yourself in five years?</td>\n",
       "    </tr>\n",
       "    <tr>\n",
       "      <th>4</th>\n",
       "      <td>Why did you decide to study in your chosen field?</td>\n",
       "      <td>Why did you choose your field of study?</td>\n",
       "    </tr>\n",
       "  </tbody>\n",
       "</table>\n",
       "</div>"
      ],
      "text/plain": [
       "                                           Questions  \\\n",
       "0            Can you share something about yourself?   \n",
       "1    Could you give a brief overview of who you are?   \n",
       "2  What are your short-term and long-term career ...   \n",
       "3  What position do you see yourself in five year...   \n",
       "4  Why did you decide to study in your chosen field?   \n",
       "\n",
       "                               Ground Truth  \n",
       "0                    Tell me about yourself  \n",
       "1       Can you introduce yourself briefly?  \n",
       "2               What are your career goals?  \n",
       "3  Where do you see yourself in five years?  \n",
       "4   Why did you choose your field of study?  "
      ]
     },
     "metadata": {},
     "output_type": "display_data"
    },
    {
     "data": {
      "text/plain": [
       "(100, 2)"
      ]
     },
     "metadata": {},
     "output_type": "display_data"
    }
   ],
   "source": [
    "test_df['Ground Truth'] = train_df['Questions']\n",
    "display(test_df.head())\n",
    "display(test_df.shape)"
   ]
  },
  {
   "cell_type": "code",
   "execution_count": 18,
   "id": "38e19852",
   "metadata": {},
   "outputs": [
    {
     "data": {
      "text/html": [
       "<div>\n",
       "<style scoped>\n",
       "    .dataframe tbody tr th:only-of-type {\n",
       "        vertical-align: middle;\n",
       "    }\n",
       "\n",
       "    .dataframe tbody tr th {\n",
       "        vertical-align: top;\n",
       "    }\n",
       "\n",
       "    .dataframe thead th {\n",
       "        text-align: right;\n",
       "    }\n",
       "</style>\n",
       "<table border=\"1\" class=\"dataframe\">\n",
       "  <thead>\n",
       "    <tr style=\"text-align: right;\">\n",
       "      <th></th>\n",
       "      <th>Questions</th>\n",
       "      <th>Ground Truth</th>\n",
       "      <th>Matched Sentence</th>\n",
       "    </tr>\n",
       "  </thead>\n",
       "  <tbody>\n",
       "    <tr>\n",
       "      <th>0</th>\n",
       "      <td>Can you share something about yourself?</td>\n",
       "      <td>Tell me about yourself</td>\n",
       "      <td>Tell me about yourself</td>\n",
       "    </tr>\n",
       "    <tr>\n",
       "      <th>1</th>\n",
       "      <td>Could you give a brief overview of who you are?</td>\n",
       "      <td>Can you introduce yourself briefly?</td>\n",
       "      <td>Tell me about yourself</td>\n",
       "    </tr>\n",
       "    <tr>\n",
       "      <th>2</th>\n",
       "      <td>What are your short-term and long-term career ...</td>\n",
       "      <td>What are your career goals?</td>\n",
       "      <td>What are your long-term aspirations?</td>\n",
       "    </tr>\n",
       "    <tr>\n",
       "      <th>3</th>\n",
       "      <td>What position do you see yourself in five year...</td>\n",
       "      <td>Where do you see yourself in five years?</td>\n",
       "      <td>Where do you see yourself in five years?</td>\n",
       "    </tr>\n",
       "    <tr>\n",
       "      <th>4</th>\n",
       "      <td>Why did you decide to study in your chosen field?</td>\n",
       "      <td>Why did you choose your field of study?</td>\n",
       "      <td>Why did you choose your field of study?</td>\n",
       "    </tr>\n",
       "  </tbody>\n",
       "</table>\n",
       "</div>"
      ],
      "text/plain": [
       "                                           Questions  \\\n",
       "0            Can you share something about yourself?   \n",
       "1    Could you give a brief overview of who you are?   \n",
       "2  What are your short-term and long-term career ...   \n",
       "3  What position do you see yourself in five year...   \n",
       "4  Why did you decide to study in your chosen field?   \n",
       "\n",
       "                               Ground Truth  \\\n",
       "0                    Tell me about yourself   \n",
       "1       Can you introduce yourself briefly?   \n",
       "2               What are your career goals?   \n",
       "3  Where do you see yourself in five years?   \n",
       "4   Why did you choose your field of study?   \n",
       "\n",
       "                           Matched Sentence  \n",
       "0                    Tell me about yourself  \n",
       "1                    Tell me about yourself  \n",
       "2      What are your long-term aspirations?  \n",
       "3  Where do you see yourself in five years?  \n",
       "4   Why did you choose your field of study?  "
      ]
     },
     "metadata": {},
     "output_type": "display_data"
    },
    {
     "data": {
      "text/plain": [
       "(100, 3)"
      ]
     },
     "metadata": {},
     "output_type": "display_data"
    }
   ],
   "source": [
    "# Classifying the test sentences to the training dataset \n",
    "test_df['Matched Sentence'] = test_df.apply(lambda x: sentence_matching(x['Questions'], dataset_embeddings, raw_dataset)[0], axis=1)\n",
    "\n",
    "display(test_df.head())\n",
    "display(test_df.shape)"
   ]
  },
  {
   "cell_type": "code",
   "execution_count": 19,
   "id": "d8a1a479",
   "metadata": {},
   "outputs": [
    {
     "name": "stdout",
     "output_type": "stream",
     "text": [
      "Accuracy: 83.00%\n"
     ]
    }
   ],
   "source": [
    "# Calculating the accuracy\n",
    "test_df['Match_or_not'] = test_df.apply(lambda x: 1 if x['Ground Truth'] == x['Matched Sentence'] else 0, axis=1)\n",
    "accuracy = test_df['Match_or_not'].sum() / test_df.shape[0]\n",
    "print(\"Accuracy: {:.2f}%\".format(accuracy * 100))"
   ]
  },
  {
   "cell_type": "code",
   "execution_count": 20,
   "id": "23192bbb",
   "metadata": {},
   "outputs": [
    {
     "data": {
      "text/html": [
       "<div>\n",
       "<style scoped>\n",
       "    .dataframe tbody tr th:only-of-type {\n",
       "        vertical-align: middle;\n",
       "    }\n",
       "\n",
       "    .dataframe tbody tr th {\n",
       "        vertical-align: top;\n",
       "    }\n",
       "\n",
       "    .dataframe thead th {\n",
       "        text-align: right;\n",
       "    }\n",
       "</style>\n",
       "<table border=\"1\" class=\"dataframe\">\n",
       "  <thead>\n",
       "    <tr style=\"text-align: right;\">\n",
       "      <th></th>\n",
       "      <th>Questions</th>\n",
       "      <th>Ground Truth</th>\n",
       "      <th>Matched Sentence</th>\n",
       "      <th>Match_or_not</th>\n",
       "    </tr>\n",
       "  </thead>\n",
       "  <tbody>\n",
       "    <tr>\n",
       "      <th>1</th>\n",
       "      <td>Could you give a brief overview of who you are?</td>\n",
       "      <td>Can you introduce yourself briefly?</td>\n",
       "      <td>Tell me about yourself</td>\n",
       "      <td>0</td>\n",
       "    </tr>\n",
       "    <tr>\n",
       "      <th>2</th>\n",
       "      <td>What are your short-term and long-term career ...</td>\n",
       "      <td>What are your career goals?</td>\n",
       "      <td>What are your long-term aspirations?</td>\n",
       "      <td>0</td>\n",
       "    </tr>\n",
       "    <tr>\n",
       "      <th>5</th>\n",
       "      <td>What inspires you to perform well?</td>\n",
       "      <td>What motivates you in life?</td>\n",
       "      <td>What are your greatest strengths?</td>\n",
       "      <td>0</td>\n",
       "    </tr>\n",
       "    <tr>\n",
       "      <th>7</th>\n",
       "      <td>Where do you see yourself professionally in th...</td>\n",
       "      <td>What are your long-term aspirations?</td>\n",
       "      <td>Where do you see yourself in five years?</td>\n",
       "      <td>0</td>\n",
       "    </tr>\n",
       "    <tr>\n",
       "      <th>11</th>\n",
       "      <td>Are there any areas where you struggle and are...</td>\n",
       "      <td>What are your weaknesses?</td>\n",
       "      <td>How do you keep improving yourself?</td>\n",
       "      <td>0</td>\n",
       "    </tr>\n",
       "    <tr>\n",
       "      <th>18</th>\n",
       "      <td>What is your typical approach to solving tough...</td>\n",
       "      <td>How do you approach problem-solving?</td>\n",
       "      <td>How do you deal with unforeseen challenges?</td>\n",
       "      <td>0</td>\n",
       "    </tr>\n",
       "    <tr>\n",
       "      <th>20</th>\n",
       "      <td>Why are you interested in this particular posi...</td>\n",
       "      <td>Why do you want this job?</td>\n",
       "      <td>What interests you most about this role?</td>\n",
       "      <td>0</td>\n",
       "    </tr>\n",
       "    <tr>\n",
       "      <th>27</th>\n",
       "      <td>What would you aim to accomplish early in this...</td>\n",
       "      <td>What do you expect to accomplish in the first ...</td>\n",
       "      <td>What challenges are you expecting in this posi...</td>\n",
       "      <td>0</td>\n",
       "    </tr>\n",
       "    <tr>\n",
       "      <th>37</th>\n",
       "      <td>What is the professional achievement you’re mo...</td>\n",
       "      <td>What is your proudest accomplishment?</td>\n",
       "      <td>What is your greatest professional achievement?</td>\n",
       "      <td>0</td>\n",
       "    </tr>\n",
       "    <tr>\n",
       "      <th>38</th>\n",
       "      <td>Have you ever been a mentor or coach to someone?</td>\n",
       "      <td>Have you ever trained or mentored someone?</td>\n",
       "      <td>Have you ever mentored someone at work?</td>\n",
       "      <td>0</td>\n",
       "    </tr>\n",
       "    <tr>\n",
       "      <th>39</th>\n",
       "      <td>What’s the most complicated problem you’ve eve...</td>\n",
       "      <td>Can you give an example of a complex problem y...</td>\n",
       "      <td>What’s the most creative solution you’ve imple...</td>\n",
       "      <td>0</td>\n",
       "    </tr>\n",
       "    <tr>\n",
       "      <th>46</th>\n",
       "      <td>How do you manage multiple responsibilities at...</td>\n",
       "      <td>What’s your approach to multitasking?</td>\n",
       "      <td>What steps would you take to prioritize multip...</td>\n",
       "      <td>0</td>\n",
       "    </tr>\n",
       "    <tr>\n",
       "      <th>47</th>\n",
       "      <td>Can you share an example of exceeding your job...</td>\n",
       "      <td>Can you share an example of going above and be...</td>\n",
       "      <td>Can you share a time when you exceeded expecta...</td>\n",
       "      <td>0</td>\n",
       "    </tr>\n",
       "    <tr>\n",
       "      <th>53</th>\n",
       "      <td>Can you describe a time when your team succeed...</td>\n",
       "      <td>Can you describe a successful team project?</td>\n",
       "      <td>Describe a time you worked in a team</td>\n",
       "      <td>0</td>\n",
       "    </tr>\n",
       "    <tr>\n",
       "      <th>58</th>\n",
       "      <td>How do you establish trust and rapport with co...</td>\n",
       "      <td>What steps do you take to build trust in a team?</td>\n",
       "      <td>How do you build relationships with coworkers?</td>\n",
       "      <td>0</td>\n",
       "    </tr>\n",
       "    <tr>\n",
       "      <th>87</th>\n",
       "      <td>How do you process and implement constructive ...</td>\n",
       "      <td>What’s your approach to handling criticism?</td>\n",
       "      <td>How do you handle feedback or criticism?</td>\n",
       "      <td>0</td>\n",
       "    </tr>\n",
       "    <tr>\n",
       "      <th>97</th>\n",
       "      <td>Do you have questions about our organization o...</td>\n",
       "      <td>Do you have any questions for us?</td>\n",
       "      <td>What do you know about our company?</td>\n",
       "      <td>0</td>\n",
       "    </tr>\n",
       "  </tbody>\n",
       "</table>\n",
       "</div>"
      ],
      "text/plain": [
       "                                            Questions  \\\n",
       "1     Could you give a brief overview of who you are?   \n",
       "2   What are your short-term and long-term career ...   \n",
       "5                  What inspires you to perform well?   \n",
       "7   Where do you see yourself professionally in th...   \n",
       "11  Are there any areas where you struggle and are...   \n",
       "18  What is your typical approach to solving tough...   \n",
       "20  Why are you interested in this particular posi...   \n",
       "27  What would you aim to accomplish early in this...   \n",
       "37  What is the professional achievement you’re mo...   \n",
       "38   Have you ever been a mentor or coach to someone?   \n",
       "39  What’s the most complicated problem you’ve eve...   \n",
       "46  How do you manage multiple responsibilities at...   \n",
       "47  Can you share an example of exceeding your job...   \n",
       "53  Can you describe a time when your team succeed...   \n",
       "58  How do you establish trust and rapport with co...   \n",
       "87  How do you process and implement constructive ...   \n",
       "97  Do you have questions about our organization o...   \n",
       "\n",
       "                                         Ground Truth  \\\n",
       "1                 Can you introduce yourself briefly?   \n",
       "2                         What are your career goals?   \n",
       "5                         What motivates you in life?   \n",
       "7                What are your long-term aspirations?   \n",
       "11                          What are your weaknesses?   \n",
       "18               How do you approach problem-solving?   \n",
       "20                          Why do you want this job?   \n",
       "27  What do you expect to accomplish in the first ...   \n",
       "37              What is your proudest accomplishment?   \n",
       "38         Have you ever trained or mentored someone?   \n",
       "39  Can you give an example of a complex problem y...   \n",
       "46              What’s your approach to multitasking?   \n",
       "47  Can you share an example of going above and be...   \n",
       "53        Can you describe a successful team project?   \n",
       "58   What steps do you take to build trust in a team?   \n",
       "87        What’s your approach to handling criticism?   \n",
       "97                  Do you have any questions for us?   \n",
       "\n",
       "                                     Matched Sentence  Match_or_not  \n",
       "1                              Tell me about yourself             0  \n",
       "2                What are your long-term aspirations?             0  \n",
       "5                   What are your greatest strengths?             0  \n",
       "7            Where do you see yourself in five years?             0  \n",
       "11                How do you keep improving yourself?             0  \n",
       "18        How do you deal with unforeseen challenges?             0  \n",
       "20           What interests you most about this role?             0  \n",
       "27  What challenges are you expecting in this posi...             0  \n",
       "37    What is your greatest professional achievement?             0  \n",
       "38            Have you ever mentored someone at work?             0  \n",
       "39  What’s the most creative solution you’ve imple...             0  \n",
       "46  What steps would you take to prioritize multip...             0  \n",
       "47  Can you share a time when you exceeded expecta...             0  \n",
       "53               Describe a time you worked in a team             0  \n",
       "58     How do you build relationships with coworkers?             0  \n",
       "87           How do you handle feedback or criticism?             0  \n",
       "97                What do you know about our company?             0  "
      ]
     },
     "execution_count": 20,
     "metadata": {},
     "output_type": "execute_result"
    }
   ],
   "source": [
    "# The ones which are not correctly classified\n",
    "test_df[test_df['Match_or_not'] == 0].to_excel('Test_cosine.xlsx')\n",
    "test_df[test_df['Match_or_not'] == 0]"
   ]
  },
  {
   "cell_type": "code",
   "execution_count": null,
   "id": "d2dcd312",
   "metadata": {},
   "outputs": [],
   "source": []
  },
  {
   "cell_type": "code",
   "execution_count": null,
   "id": "2532463e-d89f-494a-b869-c27c76930045",
   "metadata": {},
   "outputs": [],
   "source": []
  }
 ],
 "metadata": {
  "kernelspec": {
   "display_name": "Python 3 (ipykernel)",
   "language": "python",
   "name": "python3"
  },
  "language_info": {
   "codemirror_mode": {
    "name": "ipython",
    "version": 3
   },
   "file_extension": ".py",
   "mimetype": "text/x-python",
   "name": "python",
   "nbconvert_exporter": "python",
   "pygments_lexer": "ipython3",
   "version": "3.7.2"
  }
 },
 "nbformat": 4,
 "nbformat_minor": 5
}
